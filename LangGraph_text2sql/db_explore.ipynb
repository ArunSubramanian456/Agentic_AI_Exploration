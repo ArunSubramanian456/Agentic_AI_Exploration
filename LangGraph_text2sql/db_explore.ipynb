{
 "cells": [
  {
   "cell_type": "markdown",
   "id": "28a1c3f7",
   "metadata": {},
   "source": [
    "# Text to MySQL Agent\n"
   ]
  },
  {
   "cell_type": "markdown",
   "id": "a818bfce",
   "metadata": {},
   "source": [
    "## Download the database"
   ]
  },
  {
   "cell_type": "markdown",
   "id": "67a2ec76",
   "metadata": {},
   "source": [
    "The Northwind database is a sample database that was originally created by Microsoft and used as the basis for their tutorials in a variety of database products for decades. The Northwind database contains the sales data for a fictitious company called “Northwind Traders,” which imports and exports specialty foods from around the world. The Northwind database is an excellent tutorial schema for a small-business ERP, with customers, orders, inventory, purchasing, suppliers, shipping, employees, and single-entry accounting. The Northwind database has since been ported to a variety of non-Microsoft databases, including PostgreSQL.\n",
    "\n",
    "The Northwind dataset includes sample data for the following.\n",
    "\n",
    "- Suppliers: Suppliers and vendors of Northwind\n",
    "- Customers: Customers who buy products from Northwind\n",
    "- Employees: Employee details of Northwind traders\n",
    "- Products: Product information\n",
    "- Shippers: The details of the shippers who ship the products from the traders to the end-customers\n",
    "- Orders and Order_Details: Sales Order transactions taking place between the customers & the company\n",
    "\n",
    "The Northwind sample database includes 14 tables and the table relationships are showcased in the following entity relationship diagram."
   ]
  },
  {
   "cell_type": "markdown",
   "id": "d1412e30",
   "metadata": {},
   "source": [
    "![image.png](https://docs.yugabyte.com/images/sample-data/northwind/northwind-er-diagram.png)"
   ]
  },
  {
   "cell_type": "code",
   "execution_count": null,
   "id": "a5e52198",
   "metadata": {},
   "outputs": [
    {
     "name": "stdout",
     "output_type": "stream",
     "text": [
      "Path to dataset files: C:\\Users\\aruns\\.cache\\kagglehub\\datasets\\gauravmodi\\northwinddb\\versions\\1\n"
     ]
    }
   ],
   "source": [
    "## Download the database from KaggleHub\n",
    "\n",
    "\n",
    "import kagglehub\n",
    "\n",
    "# Download latest version\n",
    "path = kagglehub.dataset_download(\"gauravmodi/northwinddb\")\n",
    "\n",
    "print(\"Path to dataset files:\", path)"
   ]
  },
  {
   "cell_type": "code",
   "execution_count": null,
   "id": "5196f153",
   "metadata": {},
   "outputs": [
    {
     "name": "stdout",
     "output_type": "stream",
     "text": [
      "File moved successfully from C:\\Users\\aruns\\.cache\\kagglehub\\datasets\\gauravmodi\\northwinddb\\versions\\1\\northwind.db to c:\\Users\\aruns\\Documents\\Learning\\Agentic AI\\LangGraph_text2sql\\data\\northwind.db\n"
     ]
    }
   ],
   "source": [
    "## Move the database to the correct location\n",
    "import shutil\n",
    "import os\n",
    "\n",
    "# Define the source and destination paths\n",
    "source_path = os.path.join(path, \"northwind.db\")\n",
    "destination_path = os.path.join(os.getcwd(), \"northwind.db\")\n",
    "\n",
    "# Create the destination directory if it doesn't exist\n",
    "# os.makedirs(os.path.dirname(destination_path), exist_ok=True)\n",
    "\n",
    "# Move the file\n",
    "try:\n",
    "    shutil.move(source_path, destination_path)\n",
    "    print(f\"File moved successfully from {source_path} to {destination_path}\")\n",
    "except Exception as e:\n",
    "    print(f\"An error occurred during the move: {e}\")\n"
   ]
  },
  {
   "cell_type": "markdown",
   "id": "7d1bef3b",
   "metadata": {},
   "source": [
    "## LangChain MySQL Tools"
   ]
  },
  {
   "cell_type": "code",
   "execution_count": null,
   "id": "668d5e42",
   "metadata": {},
   "outputs": [],
   "source": [
    "from langchain_community.utilities import SQLDatabase\n",
    "\n",
    "db = SQLDatabase.from_uri(\"sqlite:///northwind.db\")"
   ]
  },
  {
   "cell_type": "code",
   "execution_count": 2,
   "id": "7b37554e",
   "metadata": {},
   "outputs": [
    {
     "data": {
      "text/plain": [
       "'sqlite'"
      ]
     },
     "execution_count": 2,
     "metadata": {},
     "output_type": "execute_result"
    }
   ],
   "source": [
    "db.dialect"
   ]
  },
  {
   "cell_type": "code",
   "execution_count": 3,
   "id": "7c7d1293",
   "metadata": {},
   "outputs": [
    {
     "name": "stdout",
     "output_type": "stream",
     "text": [
      "['Categories', 'CustomerCustomerDemo', 'CustomerDemographics', 'Customers', 'EmployeeTerritories', 'Employees', 'Order Details', 'Orders', 'Products', 'Regions', 'Shippers', 'Suppliers', 'Territories']\n"
     ]
    }
   ],
   "source": [
    "# Get the table names\n",
    "\n",
    "print(db.get_usable_table_names())"
   ]
  },
  {
   "cell_type": "code",
   "execution_count": 4,
   "id": "d6b0dab4",
   "metadata": {},
   "outputs": [
    {
     "data": {
      "text/plain": [
       "\"[('ALFKI', 'Alfreds Futterkiste', 'Maria Anders', 'Sales Representative', 'Obere Str. 57', 'Berlin', 'Western Europe', '12209', 'Germany', '030-0074321', '030-0076545'), ('ANATR', 'Ana Trujillo Emparedados y helados', 'Ana Trujillo', 'Owner', 'Avda. de la Constitución 2222', 'México D.F.', 'Central America', '05021', 'Mexico', '(5) 555-4729', '(5) 555-3745'), ('ANTON', 'Antonio Moreno Taquería', 'Antonio Moreno', 'Owner', 'Mataderos  2312', 'México D.F.', 'Central America', '05023', 'Mexico', '(5) 555-3932', None), ('AROUT', 'Around the Horn', 'Thomas Hardy', 'Sales Representative', '120 Hanover Sq.', 'London', 'British Isles', 'WA1 1DP', 'UK', '(171) 555-7788', '(171) 555-6750'), ('BERGS', 'Berglunds snabbköp', 'Christina Berglund', 'Order Administrator', 'Berguvsvägen  8', 'Luleå', 'Northern Europe', 'S-958 22', 'Sweden', '0921-12 34 65', '0921-12 34 67')]\""
      ]
     },
     "execution_count": 4,
     "metadata": {},
     "output_type": "execute_result"
    }
   ],
   "source": [
    "# Browse Customers table\n",
    "\n",
    "db.run(\"SELECT * FROM Customers LIMIT 5\")"
   ]
  },
  {
   "cell_type": "code",
   "execution_count": 5,
   "id": "8d6930b0",
   "metadata": {},
   "outputs": [
    {
     "data": {
      "text/plain": [
       "'[(\\'IT\\', 6303214), (\"B\\'s Beverages\", 3835329), (\\'Ricardo Adocicados\\', 3788109), (\\'LILA-Supermercado\\', 3716564), (\\'Gourmet Lanchonetes\\', 3703555)]'"
      ]
     },
     "execution_count": 5,
     "metadata": {},
     "output_type": "execute_result"
    }
   ],
   "source": [
    "# Get Top 5 Customers with most orders\n",
    "\n",
    "db.run(\"SELECT b.CompanyName, SUM(a.OrderId) as cnt_orders FROM Orders a JOIN Customers b ON a.CustomerID = b.CustomerID GROUP BY b.CompanyName ORDER BY cnt_orders DESC LIMIT 5;\")"
   ]
  },
  {
   "cell_type": "code",
   "execution_count": 6,
   "id": "7eaa0cfe",
   "metadata": {},
   "outputs": [
    {
     "data": {
      "text/plain": [
       "'[(10248, 11, 14, 12, 0.0), (10248, 42, 9.8, 10, 0.0), (10248, 72, 34.8, 5, 0.0), (10249, 14, 18.6, 9, 0.0), (10249, 51, 42.4, 40, 0.0)]'"
      ]
     },
     "execution_count": 6,
     "metadata": {},
     "output_type": "execute_result"
    }
   ],
   "source": [
    "# Explore Order Details table\n",
    "\n",
    "db.run(\"SELECT * FROM [Order Details] LIMIT 5\")"
   ]
  },
  {
   "cell_type": "code",
   "execution_count": 7,
   "id": "627708d0",
   "metadata": {},
   "outputs": [
    {
     "data": {
      "text/plain": [
       "'[(\\'Louisiana Hot Spiced Okra\\', 206213), (\"Sir Rodney\\'s Marmalade\", 205637), (\\'Teatime Chocolate Biscuits\\', 205487), (\"Sirop d\\'érable\", 205005), (\\'Gumbär Gummibärchen\\', 204761)]'"
      ]
     },
     "execution_count": 7,
     "metadata": {},
     "output_type": "execute_result"
    }
   ],
   "source": [
    "# Get Top 5 Products with most orders\n",
    "\n",
    "db.run(\"SELECT b.ProductName, SUM(a.Quantity) as qty FROM [Order Details] a JOIN Products b ON a.ProductID = b.ProductID GROUP BY b.ProductName ORDER BY qty DESC LIMIT 5;\")"
   ]
  },
  {
   "cell_type": "markdown",
   "id": "c2a5d31b",
   "metadata": {},
   "source": [
    "## LangGraph SQL Agents"
   ]
  },
  {
   "cell_type": "code",
   "execution_count": 27,
   "id": "60c9a315",
   "metadata": {},
   "outputs": [],
   "source": [
    "from dotenv import load_dotenv\n",
    "import os\n",
    "\n",
    "load_dotenv('./.env')\n",
    "\n",
    "\n",
    "## Langsmith Tracking\n",
    "os.environ[\"LANGSMITH_TRACING\"]=os.getenv(\"LANGSMITH_TRACING\")\n",
    "os.environ[\"LANGSMITH_ENDPOINT\"]=os.getenv(\"LANGSMITH_ENDPOINT\")\n",
    "os.environ[\"LANGSMITH_API_KEY\"]=os.getenv(\"LANGSMITH_API_KEY\")\n",
    "os.environ[\"LANGSMITH_PROJECT\"]=os.getenv(\"LANGSMITH_PROJECT\")\n",
    "OPENAI_API_KEY=os.getenv(\"OPENAI_API_KEY\")\n",
    "LANGSMITH_API_KEY=os.getenv(\"LANGSMITH_API_KEY\")\n",
    "groq_api_key = os.getenv(\"GROQ_API_KEY\")"
   ]
  },
  {
   "cell_type": "code",
   "execution_count": 9,
   "id": "7890774a",
   "metadata": {},
   "outputs": [],
   "source": [
    "# Create a LANGSMITH_API_KEY in Settings > API Keys\n",
    "\n",
    "from langsmith import Client\n",
    "client = Client(api_key=LANGSMITH_API_KEY)\n",
    "prompt = client.pull_prompt(\"langchain-ai/sql-agent-system-prompt\")\n",
    "# prompt = hub.pull(\"langchain-ai/sql-agent-system-prompt\")"
   ]
  },
  {
   "cell_type": "code",
   "execution_count": 10,
   "id": "f286facb",
   "metadata": {},
   "outputs": [
    {
     "data": {
      "text/plain": [
       "ChatPromptTemplate(input_variables=['dialect', 'top_k'], input_types={}, partial_variables={}, metadata={'lc_hub_owner': 'langchain-ai', 'lc_hub_repo': 'sql-agent-system-prompt', 'lc_hub_commit_hash': '31156d5fe3945188ee172151b086712d22b8c70f8f1c0505f5457594424ed352'}, messages=[SystemMessagePromptTemplate(prompt=PromptTemplate(input_variables=['dialect', 'top_k'], input_types={}, partial_variables={}, template='You are an agent designed to interact with a SQL database.\\nGiven an input question, create a syntactically correct {dialect} query to run, then look at the results of the query and return the answer.\\nUnless the user specifies a specific number of examples they wish to obtain, always limit your query to at most {top_k} results.\\nYou can order the results by a relevant column to return the most interesting examples in the database.\\nNever query for all the columns from a specific table, only ask for the relevant columns given the question.\\nYou have access to tools for interacting with the database.\\nOnly use the below tools. Only use the information returned by the below tools to construct your final answer.\\nYou MUST double check your query before executing it. If you get an error while executing a query, rewrite the query and try again.\\n\\nDO NOT make any DML statements (INSERT, UPDATE, DELETE, DROP etc.) to the database.\\n\\nTo start you should ALWAYS look at the tables in the database to see what you can query.\\nDo NOT skip this step.\\nThen you should query the schema of the most relevant tables.'), additional_kwargs={})])"
      ]
     },
     "execution_count": 10,
     "metadata": {},
     "output_type": "execute_result"
    }
   ],
   "source": [
    "prompt"
   ]
  },
  {
   "cell_type": "code",
   "execution_count": 11,
   "id": "639516cf",
   "metadata": {},
   "outputs": [
    {
     "name": "stdout",
     "output_type": "stream",
     "text": [
      "You are an agent designed to interact with a SQL database.\n",
      "Given an input question, create a syntactically correct {dialect} query to run, then look at the results of the query and return the answer.\n",
      "Unless the user specifies a specific number of examples they wish to obtain, always limit your query to at most {top_k} results.\n",
      "You can order the results by a relevant column to return the most interesting examples in the database.\n",
      "Never query for all the columns from a specific table, only ask for the relevant columns given the question.\n",
      "You have access to tools for interacting with the database.\n",
      "Only use the below tools. Only use the information returned by the below tools to construct your final answer.\n",
      "You MUST double check your query before executing it. If you get an error while executing a query, rewrite the query and try again.\n",
      "\n",
      "DO NOT make any DML statements (INSERT, UPDATE, DELETE, DROP etc.) to the database.\n",
      "\n",
      "To start you should ALWAYS look at the tables in the database to see what you can query.\n",
      "Do NOT skip this step.\n",
      "Then you should query the schema of the most relevant tables.\n"
     ]
    }
   ],
   "source": [
    "print(prompt.messages[0].prompt.template)"
   ]
  },
  {
   "cell_type": "code",
   "execution_count": 41,
   "id": "058d4f47",
   "metadata": {},
   "outputs": [],
   "source": [
    "from langchain_groq import ChatGroq\n",
    "from langchain_openai import ChatOpenAI\n",
    "\n",
    "# llm=ChatGroq(model=\"Gemma2-9b-It\",groq_api_key=groq_api_key) \n",
    "llm = ChatOpenAI(api_key=OPENAI_API_KEY, \n",
    "                 model=\"gpt-3.5-turbo\", \n",
    "                 temperature=0.5, \n",
    "                 streaming=True, \n",
    "                 ) "
   ]
  },
  {
   "cell_type": "code",
   "execution_count": 42,
   "id": "ba23462f",
   "metadata": {},
   "outputs": [],
   "source": [
    "from langchain_community.agent_toolkits import SQLDatabaseToolkit\n",
    "\n",
    "toolkit = SQLDatabaseToolkit(db=db, llm=llm)"
   ]
  },
  {
   "cell_type": "code",
   "execution_count": 43,
   "id": "b5ff2f1c",
   "metadata": {},
   "outputs": [
    {
     "data": {
      "text/plain": [
       "{'table_info': '\\nCREATE TABLE \"Categories\" (\\n\\t\"CategoryID\" INTEGER, \\n\\t\"CategoryName\" TEXT, \\n\\t\"Description\" TEXT, \\n\\t\"Picture\" BLOB, \\n\\tPRIMARY KEY (\"CategoryID\")\\n)\\n\\n/*\\n3 rows from Categories table:\\nCategoryID\\tCategoryName\\tDescription\\tPicture\\n1\\tBeverages\\tSoft drinks, coffees, teas, beers, and ales\\tb\\'\\\\xff\\\\xd8\\\\xff\\\\xe0\\\\x00\\\\x10JFIF\\\\x00\\\\x01\\\\x02\\\\x00\\\\x00d\\\\x00d\\\\x00\\\\x00\\\\xff\\\\xec\\\\x00\\\\x11Ducky\\\\x00\\\\x01\\\\x00\\\\x0\\n2\\tCondiments\\tSweet and savory sauces, relishes, spreads, and seasonings\\tb\\'\\\\xff\\\\xd8\\\\xff\\\\xe0\\\\x00\\\\x10JFIF\\\\x00\\\\x01\\\\x02\\\\x00\\\\x00d\\\\x00d\\\\x00\\\\x00\\\\xff\\\\xec\\\\x00\\\\x11Ducky\\\\x00\\\\x01\\\\x00\\\\x0\\n3\\tConfections\\tDesserts, candies, and sweet breads\\tb\\'\\\\xff\\\\xd8\\\\xff\\\\xe0\\\\x00\\\\x10JFIF\\\\x00\\\\x01\\\\x02\\\\x00\\\\x00d\\\\x00d\\\\x00\\\\x00\\\\xff\\\\xec\\\\x00\\\\x11Ducky\\\\x00\\\\x01\\\\x00\\\\x0\\n*/\\n\\n\\nCREATE TABLE \"CustomerCustomerDemo\" (\\n\\t\"CustomerID\" TEXT NOT NULL, \\n\\t\"CustomerTypeID\" TEXT NOT NULL, \\n\\tPRIMARY KEY (\"CustomerID\", \"CustomerTypeID\"), \\n\\tFOREIGN KEY(\"CustomerTypeID\") REFERENCES \"CustomerDemographics\" (\"CustomerTypeID\"), \\n\\tFOREIGN KEY(\"CustomerID\") REFERENCES \"Customers\" (\"CustomerID\")\\n)\\n\\n/*\\n3 rows from CustomerCustomerDemo table:\\nCustomerID\\tCustomerTypeID\\n\\n*/\\n\\n\\nCREATE TABLE \"CustomerDemographics\" (\\n\\t\"CustomerTypeID\" TEXT NOT NULL, \\n\\t\"CustomerDesc\" TEXT, \\n\\tPRIMARY KEY (\"CustomerTypeID\")\\n)\\n\\n/*\\n3 rows from CustomerDemographics table:\\nCustomerTypeID\\tCustomerDesc\\n\\n*/\\n\\n\\nCREATE TABLE \"Customers\" (\\n\\t\"CustomerID\" TEXT, \\n\\t\"CompanyName\" TEXT, \\n\\t\"ContactName\" TEXT, \\n\\t\"ContactTitle\" TEXT, \\n\\t\"Address\" TEXT, \\n\\t\"City\" TEXT, \\n\\t\"Region\" TEXT, \\n\\t\"PostalCode\" TEXT, \\n\\t\"Country\" TEXT, \\n\\t\"Phone\" TEXT, \\n\\t\"Fax\" TEXT, \\n\\tPRIMARY KEY (\"CustomerID\")\\n)\\n\\n/*\\n3 rows from Customers table:\\nCustomerID\\tCompanyName\\tContactName\\tContactTitle\\tAddress\\tCity\\tRegion\\tPostalCode\\tCountry\\tPhone\\tFax\\nALFKI\\tAlfreds Futterkiste\\tMaria Anders\\tSales Representative\\tObere Str. 57\\tBerlin\\tWestern Europe\\t12209\\tGermany\\t030-0074321\\t030-0076545\\nANATR\\tAna Trujillo Emparedados y helados\\tAna Trujillo\\tOwner\\tAvda. de la Constitución 2222\\tMéxico D.F.\\tCentral America\\t05021\\tMexico\\t(5) 555-4729\\t(5) 555-3745\\nANTON\\tAntonio Moreno Taquería\\tAntonio Moreno\\tOwner\\tMataderos  2312\\tMéxico D.F.\\tCentral America\\t05023\\tMexico\\t(5) 555-3932\\tNone\\n*/\\n\\n\\nCREATE TABLE \"EmployeeTerritories\" (\\n\\t\"EmployeeID\" INTEGER NOT NULL, \\n\\t\"TerritoryID\" TEXT NOT NULL, \\n\\tPRIMARY KEY (\"EmployeeID\", \"TerritoryID\"), \\n\\tFOREIGN KEY(\"TerritoryID\") REFERENCES \"Territories\" (\"TerritoryID\"), \\n\\tFOREIGN KEY(\"EmployeeID\") REFERENCES \"Employees\" (\"EmployeeID\")\\n)\\n\\n/*\\n3 rows from EmployeeTerritories table:\\nEmployeeID\\tTerritoryID\\n1\\t06897\\n1\\t19713\\n2\\t01581\\n*/\\n\\n\\nCREATE TABLE \"Employees\" (\\n\\t\"EmployeeID\" INTEGER, \\n\\t\"LastName\" TEXT, \\n\\t\"FirstName\" TEXT, \\n\\t\"Title\" TEXT, \\n\\t\"TitleOfCourtesy\" TEXT, \\n\\t\"BirthDate\" DATE, \\n\\t\"HireDate\" DATE, \\n\\t\"Address\" TEXT, \\n\\t\"City\" TEXT, \\n\\t\"Region\" TEXT, \\n\\t\"PostalCode\" TEXT, \\n\\t\"Country\" TEXT, \\n\\t\"HomePhone\" TEXT, \\n\\t\"Extension\" TEXT, \\n\\t\"Photo\" BLOB, \\n\\t\"Notes\" TEXT, \\n\\t\"ReportsTo\" INTEGER, \\n\\t\"PhotoPath\" TEXT, \\n\\tPRIMARY KEY (\"EmployeeID\"), \\n\\tFOREIGN KEY(\"ReportsTo\") REFERENCES \"Employees\" (\"EmployeeID\")\\n)\\n\\n/*\\n3 rows from Employees table:\\nEmployeeID\\tLastName\\tFirstName\\tTitle\\tTitleOfCourtesy\\tBirthDate\\tHireDate\\tAddress\\tCity\\tRegion\\tPostalCode\\tCountry\\tHomePhone\\tExtension\\tPhoto\\tNotes\\tReportsTo\\tPhotoPath\\n1\\tDavolio\\tNancy\\tSales Representative\\tMs.\\t1968-12-08\\t2012-05-01\\t507 - 20th Ave. E.Apt. 2A\\tSeattle\\tNorth America\\t98122\\tUSA\\t(206) 555-9857\\t5467\\tb\\'\\\\xff\\\\xd8\\\\xff\\\\xe0\\\\x00\\\\x10JFIF\\\\x00\\\\x01\\\\x02\\\\x00\\\\x00d\\\\x00d\\\\x00\\\\x00\\\\xff\\\\xec\\\\x00\\\\x11Ducky\\\\x00\\\\x01\\\\x00\\\\x0\\tEducation includes a BA in psychology from Colorado State University in 1970.  She also completed \"T\\t2\\thttp://accweb/emmployees/davolio.bmp\\n2\\tFuller\\tAndrew\\tVice President, Sales\\tDr.\\t1972-02-19\\t2012-08-14\\t908 W. Capital Way\\tTacoma\\tNorth America\\t98401\\tUSA\\t(206) 555-9482\\t3457\\tb\\'\\\\xff\\\\xd8\\\\xff\\\\xe0\\\\x00\\\\x10JFIF\\\\x00\\\\x01\\\\x02\\\\x00\\\\x00d\\\\x00d\\\\x00\\\\x00\\\\xff\\\\xec\\\\x00\\\\x11Ducky\\\\x00\\\\x01\\\\x00\\\\x0\\tAndrew received his BTS commercial in 1974 and a Ph.D. in international marketing from the Universit\\tNone\\thttp://accweb/emmployees/fuller.bmp\\n3\\tLeverling\\tJanet\\tSales Representative\\tMs.\\t1983-08-30\\t2012-04-01\\t722 Moss Bay Blvd.\\tKirkland\\tNorth America\\t98033\\tUSA\\t(206) 555-3412\\t3355\\tb\\'\\\\xff\\\\xd8\\\\xff\\\\xe0\\\\x00\\\\x10JFIF\\\\x00\\\\x01\\\\x02\\\\x00\\\\x00d\\\\x00d\\\\x00\\\\x00\\\\xff\\\\xec\\\\x00\\\\x11Ducky\\\\x00\\\\x01\\\\x00\\\\x0\\tJanet has a BS degree in chemistry from Boston College (1984).  She has also completed a certificate\\t2\\thttp://accweb/emmployees/leverling.bmp\\n*/\\n\\n\\nCREATE TABLE \"Order Details\" (\\n\\t\"OrderID\" INTEGER NOT NULL, \\n\\t\"ProductID\" INTEGER NOT NULL, \\n\\t\"UnitPrice\" NUMERIC DEFAULT 0 NOT NULL, \\n\\t\"Quantity\" INTEGER DEFAULT 1 NOT NULL, \\n\\t\"Discount\" REAL DEFAULT 0 NOT NULL, \\n\\tPRIMARY KEY (\"OrderID\", \"ProductID\"), \\n\\tFOREIGN KEY(\"ProductID\") REFERENCES \"Products\" (\"ProductID\"), \\n\\tFOREIGN KEY(\"OrderID\") REFERENCES \"Orders\" (\"OrderID\"), \\n\\tCHECK ([Discount]>=(0) AND [Discount]<=(1)), \\n\\tCHECK ([Quantity]>(0)), \\n\\tCHECK ([UnitPrice]>=(0))\\n)\\n\\n/*\\n3 rows from Order Details table:\\nOrderID\\tProductID\\tUnitPrice\\tQuantity\\tDiscount\\n10248\\t11\\t14.0000000000\\t12\\t0.0\\n10248\\t42\\t9.8000000000\\t10\\t0.0\\n10248\\t72\\t34.8000000000\\t5\\t0.0\\n*/\\n\\n\\nCREATE TABLE \"Orders\" (\\n\\t\"OrderID\" INTEGER NOT NULL, \\n\\t\"CustomerID\" TEXT, \\n\\t\"EmployeeID\" INTEGER, \\n\\t\"OrderDate\" DATETIME, \\n\\t\"RequiredDate\" DATETIME, \\n\\t\"ShippedDate\" DATETIME, \\n\\t\"ShipVia\" INTEGER, \\n\\t\"Freight\" NUMERIC DEFAULT 0, \\n\\t\"ShipName\" TEXT, \\n\\t\"ShipAddress\" TEXT, \\n\\t\"ShipCity\" TEXT, \\n\\t\"ShipRegion\" TEXT, \\n\\t\"ShipPostalCode\" TEXT, \\n\\t\"ShipCountry\" TEXT, \\n\\tPRIMARY KEY (\"OrderID\"), \\n\\tFOREIGN KEY(\"ShipVia\") REFERENCES \"Shippers\" (\"ShipperID\"), \\n\\tFOREIGN KEY(\"CustomerID\") REFERENCES \"Customers\" (\"CustomerID\"), \\n\\tFOREIGN KEY(\"EmployeeID\") REFERENCES \"Employees\" (\"EmployeeID\")\\n)\\n\\n/*\\n3 rows from Orders table:\\nOrderID\\tCustomerID\\tEmployeeID\\tOrderDate\\tRequiredDate\\tShippedDate\\tShipVia\\tFreight\\tShipName\\tShipAddress\\tShipCity\\tShipRegion\\tShipPostalCode\\tShipCountry\\n10248\\tVINET\\t5\\t2016-07-04 00:00:00\\t2016-08-01 00:00:00\\t2016-07-16 00:00:00\\t3\\t16.7500000000\\tVins et alcools Chevalier\\t59 rue de l-Abbaye\\tReims\\tWestern Europe\\t51100\\tFrance\\n10249\\tTOMSP\\t6\\t2016-07-05 00:00:00\\t2016-08-16 00:00:00\\t2016-07-10 00:00:00\\t1\\t22.2500000000\\tToms Spezialitäten\\tLuisenstr. 48\\tMünster\\tWestern Europe\\t44087\\tGermany\\n10250\\tHANAR\\t4\\t2016-07-08 00:00:00\\t2016-08-05 00:00:00\\t2016-07-12 00:00:00\\t2\\t25.0000000000\\tHanari Carnes\\tRua do Paço, 67\\tRio de Janeiro\\tSouth America\\t05454-876\\tBrazil\\n*/\\n\\n\\nCREATE TABLE \"Products\" (\\n\\t\"ProductID\" INTEGER NOT NULL, \\n\\t\"ProductName\" TEXT NOT NULL, \\n\\t\"SupplierID\" INTEGER, \\n\\t\"CategoryID\" INTEGER, \\n\\t\"QuantityPerUnit\" TEXT, \\n\\t\"UnitPrice\" NUMERIC DEFAULT 0, \\n\\t\"UnitsInStock\" INTEGER DEFAULT 0, \\n\\t\"UnitsOnOrder\" INTEGER DEFAULT 0, \\n\\t\"ReorderLevel\" INTEGER DEFAULT 0, \\n\\t\"Discontinued\" TEXT DEFAULT \\'0\\' NOT NULL, \\n\\tPRIMARY KEY (\"ProductID\"), \\n\\tFOREIGN KEY(\"SupplierID\") REFERENCES \"Suppliers\" (\"SupplierID\"), \\n\\tFOREIGN KEY(\"CategoryID\") REFERENCES \"Categories\" (\"CategoryID\"), \\n\\tCHECK ([UnitPrice]>=(0)), \\n\\tCHECK ([ReorderLevel]>=(0)), \\n\\tCHECK ([UnitsInStock]>=(0)), \\n\\tCHECK ([UnitsOnOrder]>=(0))\\n)\\n\\n/*\\n3 rows from Products table:\\nProductID\\tProductName\\tSupplierID\\tCategoryID\\tQuantityPerUnit\\tUnitPrice\\tUnitsInStock\\tUnitsOnOrder\\tReorderLevel\\tDiscontinued\\n1\\tChai\\t1\\t1\\t10 boxes x 20 bags\\t18.0000000000\\t39\\t0\\t10\\t0\\n2\\tChang\\t1\\t1\\t24 - 12 oz bottles\\t19.0000000000\\t17\\t40\\t25\\t0\\n3\\tAniseed Syrup\\t1\\t2\\t12 - 550 ml bottles\\t10.0000000000\\t13\\t70\\t25\\t0\\n*/\\n\\n\\nCREATE TABLE \"Regions\" (\\n\\t\"RegionID\" INTEGER NOT NULL, \\n\\t\"RegionDescription\" TEXT NOT NULL, \\n\\tPRIMARY KEY (\"RegionID\")\\n)\\n\\n/*\\n3 rows from Regions table:\\nRegionID\\tRegionDescription\\n1\\tEastern\\n2\\tWestern\\n3\\tNorthern\\n*/\\n\\n\\nCREATE TABLE \"Shippers\" (\\n\\t\"ShipperID\" INTEGER NOT NULL, \\n\\t\"CompanyName\" TEXT NOT NULL, \\n\\t\"Phone\" TEXT, \\n\\tPRIMARY KEY (\"ShipperID\")\\n)\\n\\n/*\\n3 rows from Shippers table:\\nShipperID\\tCompanyName\\tPhone\\n1\\tSpeedy Express\\t(503) 555-9831\\n2\\tUnited Package\\t(503) 555-3199\\n3\\tFederal Shipping\\t(503) 555-9931\\n*/\\n\\n\\nCREATE TABLE \"Suppliers\" (\\n\\t\"SupplierID\" INTEGER NOT NULL, \\n\\t\"CompanyName\" TEXT NOT NULL, \\n\\t\"ContactName\" TEXT, \\n\\t\"ContactTitle\" TEXT, \\n\\t\"Address\" TEXT, \\n\\t\"City\" TEXT, \\n\\t\"Region\" TEXT, \\n\\t\"PostalCode\" TEXT, \\n\\t\"Country\" TEXT, \\n\\t\"Phone\" TEXT, \\n\\t\"Fax\" TEXT, \\n\\t\"HomePage\" TEXT, \\n\\tPRIMARY KEY (\"SupplierID\")\\n)\\n\\n/*\\n3 rows from Suppliers table:\\nSupplierID\\tCompanyName\\tContactName\\tContactTitle\\tAddress\\tCity\\tRegion\\tPostalCode\\tCountry\\tPhone\\tFax\\tHomePage\\n1\\tExotic Liquids\\tCharlotte Cooper\\tPurchasing Manager\\t49 Gilbert St.\\tLondon\\tBritish Isles\\tEC1 4SD\\tUK\\t(171) 555-2222\\tNone\\tNone\\n2\\tNew Orleans Cajun Delights\\tShelley Burke\\tOrder Administrator\\tP.O. Box 78934\\tNew Orleans\\tNorth America\\t70117\\tUSA\\t(100) 555-4822\\tNone\\t#CAJUN.HTM#\\n3\\tGrandma Kelly\\'s Homestead\\tRegina Murphy\\tSales Representative\\t707 Oxford Rd.\\tAnn Arbor\\tNorth America\\t48104\\tUSA\\t(313) 555-5735\\t(313) 555-3349\\tNone\\n*/\\n\\n\\nCREATE TABLE \"Territories\" (\\n\\t\"TerritoryID\" TEXT NOT NULL, \\n\\t\"TerritoryDescription\" TEXT NOT NULL, \\n\\t\"RegionID\" INTEGER NOT NULL, \\n\\tPRIMARY KEY (\"TerritoryID\"), \\n\\tFOREIGN KEY(\"RegionID\") REFERENCES \"Regions\" (\"RegionID\")\\n)\\n\\n/*\\n3 rows from Territories table:\\nTerritoryID\\tTerritoryDescription\\tRegionID\\n01581\\tWestboro\\t1\\n01730\\tBedford\\t1\\n01833\\tGeorgetow\\t1\\n*/',\n",
       " 'table_names': 'Categories, CustomerCustomerDemo, CustomerDemographics, Customers, EmployeeTerritories, Employees, Order Details, Orders, Products, Regions, Shippers, Suppliers, Territories'}"
      ]
     },
     "execution_count": 43,
     "metadata": {},
     "output_type": "execute_result"
    }
   ],
   "source": [
    "toolkit.get_context()"
   ]
  },
  {
   "cell_type": "code",
   "execution_count": 44,
   "id": "7cf83f4a",
   "metadata": {},
   "outputs": [
    {
     "data": {
      "text/plain": [
       "[QuerySQLDatabaseTool(description=\"Input to this tool is a detailed and correct SQL query, output is a result from the database. If the query is not correct, an error message will be returned. If an error is returned, rewrite the query, check the query, and try again. If you encounter an issue with Unknown column 'xxxx' in 'field list', use sql_db_schema to query the correct table fields.\", db=<langchain_community.utilities.sql_database.SQLDatabase object at 0x000001E333516930>),\n",
       " InfoSQLDatabaseTool(description='Input to this tool is a comma-separated list of tables, output is the schema and sample rows for those tables. Be sure that the tables actually exist by calling sql_db_list_tables first! Example Input: table1, table2, table3', db=<langchain_community.utilities.sql_database.SQLDatabase object at 0x000001E333516930>),\n",
       " ListSQLDatabaseTool(db=<langchain_community.utilities.sql_database.SQLDatabase object at 0x000001E333516930>),\n",
       " QuerySQLCheckerTool(description='Use this tool to double check if your query is correct before executing it. Always use this tool before executing a query with sql_db_query!', db=<langchain_community.utilities.sql_database.SQLDatabase object at 0x000001E333516930>, llm=ChatOpenAI(client=<openai.resources.chat.completions.Completions object at 0x000001E35E0C2360>, async_client=<openai.resources.chat.completions.AsyncCompletions object at 0x000001E35DE40E00>, root_client=<openai.OpenAI object at 0x000001E35DF9B290>, root_async_client=<openai.AsyncOpenAI object at 0x000001E35DFE3230>, temperature=0.5, model_kwargs={}, openai_api_key=SecretStr('**********'), streaming=True), llm_chain=LLMChain(verbose=False, prompt=PromptTemplate(input_variables=['dialect', 'query'], input_types={}, partial_variables={}, template='\\n{query}\\nDouble check the {dialect} query above for common mistakes, including:\\n- Using NOT IN with NULL values\\n- Using UNION when UNION ALL should have been used\\n- Using BETWEEN for exclusive ranges\\n- Data type mismatch in predicates\\n- Properly quoting identifiers\\n- Using the correct number of arguments for functions\\n- Casting to the correct data type\\n- Using the proper columns for joins\\n\\nIf there are any of the above mistakes, rewrite the query. If there are no mistakes, just reproduce the original query.\\n\\nOutput the final SQL query only.\\n\\nSQL Query: '), llm=ChatOpenAI(client=<openai.resources.chat.completions.Completions object at 0x000001E35E0C2360>, async_client=<openai.resources.chat.completions.AsyncCompletions object at 0x000001E35DE40E00>, root_client=<openai.OpenAI object at 0x000001E35DF9B290>, root_async_client=<openai.AsyncOpenAI object at 0x000001E35DFE3230>, temperature=0.5, model_kwargs={}, openai_api_key=SecretStr('**********'), streaming=True), output_parser=StrOutputParser(), llm_kwargs={}))]"
      ]
     },
     "execution_count": 44,
     "metadata": {},
     "output_type": "execute_result"
    }
   ],
   "source": [
    "tools = toolkit.get_tools()\n",
    "tools"
   ]
  },
  {
   "cell_type": "code",
   "execution_count": 45,
   "id": "c7229f7f",
   "metadata": {},
   "outputs": [
    {
     "data": {
      "text/plain": [
       "'[(10248, 11, 14, 12, 0.0), (10248, 42, 9.8, 10, 0.0), (10248, 72, 34.8, 5, 0.0), (10249, 14, 18.6, 9, 0.0), (10249, 51, 42.4, 40, 0.0)]'"
      ]
     },
     "execution_count": 45,
     "metadata": {},
     "output_type": "execute_result"
    }
   ],
   "source": [
    "# QuerySQLDatabaseTool\n",
    "tools[0].invoke(\"select * from [Order Details]  LIMIT 5\")"
   ]
  },
  {
   "cell_type": "code",
   "execution_count": 46,
   "id": "928287a5",
   "metadata": {},
   "outputs": [
    {
     "data": {
      "text/plain": [
       "'SELECT ProductName AS Products \\nFROM Products \\nLIMIT 5;'"
      ]
     },
     "execution_count": 46,
     "metadata": {},
     "output_type": "execute_result"
    }
   ],
   "source": [
    "# QuerySQLCheckerTool\n",
    "tools[3].invoke(\"select ProductName Products  LIMIT 5\")"
   ]
  },
  {
   "cell_type": "markdown",
   "id": "224d380e",
   "metadata": {},
   "source": [
    "## Agent Coding"
   ]
  },
  {
   "cell_type": "code",
   "execution_count": 47,
   "id": "2d65e5bd",
   "metadata": {},
   "outputs": [],
   "source": [
    "from langgraph.prebuilt import create_react_agent\n",
    "from langchain_core.messages import HumanMessage\n",
    "from IPython.display import display, Image"
   ]
  },
  {
   "cell_type": "code",
   "execution_count": 48,
   "id": "78889f95",
   "metadata": {},
   "outputs": [],
   "source": [
    "system_prompt_template = prompt.format(dialect = db.dialect, top_k = 5)\n"
   ]
  },
  {
   "cell_type": "code",
   "execution_count": 49,
   "id": "bc8878c3",
   "metadata": {},
   "outputs": [
    {
     "data": {
      "image/png": "[encoded data removed]",
      "text/plain": [
       "<IPython.core.display.Image object>"
      ]
     },
     "metadata": {},
     "output_type": "display_data"
    }
   ],
   "source": [
    "agent_executor = create_react_agent(llm, tools, state_modifier=system_prompt_template)\n",
    "\n",
    "display(Image(agent_executor.get_graph().draw_mermaid_png()))"
   ]
  },
  {
   "cell_type": "markdown",
   "id": "1b95bb98",
   "metadata": {},
   "source": [
    "#### Questions\n",
    "\n",
    "\"Which cities have the most customers?\"\n",
    "\"Which customers are located in London?\"\n",
    "\"Who are the customers with most orders?\"\n",
    "\"Which employee has processed the most orders?\"\n",
    "\"Show me the sales performance of each employee (e.g., total order value).\"\n",
    "\"What are the top products with most orders?\"\n",
    "\"What is the average price of products by category?\"\n",
    "\"Who are the top suppliers of Teatime Chocolate Biscuits with lowest unit price?\"\n",
    "\"What is the average dollar value (calculated as unit price * quantity) of an order?\"\n",
    "\"What are the minimum and maximum order dates?\"\n",
    "\"List the products supplied by suppliers located in the USA\"\n",
    "\"Which customers ordered products from the 'Seafood' category?\""
   ]
  },
  {
   "cell_type": "code",
   "execution_count": null,
   "id": "56247bc4",
   "metadata": {},
   "outputs": [
    {
     "name": "stdout",
     "output_type": "stream",
     "text": [
      "==================================\u001b[1m Ai Message \u001b[0m==================================\n",
      "Tool Calls:\n",
      "  sql_db_list_tables (call_Unv4B5YpuFHPRXmSaDIkIw2C)\n",
      " Call ID: call_Unv4B5YpuFHPRXmSaDIkIw2C\n",
      "  Args:\n",
      "=================================\u001b[1m Tool Message \u001b[0m=================================\n",
      "Name: sql_db_list_tables\n",
      "\n",
      "Categories, CustomerCustomerDemo, CustomerDemographics, Customers, EmployeeTerritories, Employees, Order Details, Orders, Products, Regions, Shippers, Suppliers, Territories\n",
      "==================================\u001b[1m Ai Message \u001b[0m==================================\n",
      "Tool Calls:\n",
      "  sql_db_schema (call_ixGiqWhbpLo1avvzvReAGOgY)\n",
      " Call ID: call_ixGiqWhbpLo1avvzvReAGOgY\n",
      "  Args:\n",
      "    table_names: Categories, Customers, Products, Orders, Order Details\n",
      "=================================\u001b[1m Tool Message \u001b[0m=================================\n",
      "Name: sql_db_schema\n",
      "\n",
      "\n",
      "CREATE TABLE \"Categories\" (\n",
      "\t\"CategoryID\" INTEGER, \n",
      "\t\"CategoryName\" TEXT, \n",
      "\t\"Description\" TEXT, \n",
      "\t\"Picture\" BLOB, \n",
      "\tPRIMARY KEY (\"CategoryID\")\n",
      ")\n",
      "\n",
      "/*\n",
      "3 rows from Categories table:\n",
      "CategoryID\tCategoryName\tDescription\tPicture\n",
      "1\tBeverages\tSoft drinks, coffees, teas, beers, and ales\tb'\\xff\\xd8\\xff\\xe0\\x00\\x10JFIF\\x00\\x01\\x02\\x00\\x00d\\x00d\\x00\\x00\\xff\\xec\\x00\\x11Ducky\\x00\\x01\\x00\\x0\n",
      "2\tCondiments\tSweet and savory sauces, relishes, spreads, and seasonings\tb'\\xff\\xd8\\xff\\xe0\\x00\\x10JFIF\\x00\\x01\\x02\\x00\\x00d\\x00d\\x00\\x00\\xff\\xec\\x00\\x11Ducky\\x00\\x01\\x00\\x0\n",
      "3\tConfections\tDesserts, candies, and sweet breads\tb'\\xff\\xd8\\xff\\xe0\\x00\\x10JFIF\\x00\\x01\\x02\\x00\\x00d\\x00d\\x00\\x00\\xff\\xec\\x00\\x11Ducky\\x00\\x01\\x00\\x0\n",
      "*/\n",
      "\n",
      "\n",
      "CREATE TABLE \"Customers\" (\n",
      "\t\"CustomerID\" TEXT, \n",
      "\t\"CompanyName\" TEXT, \n",
      "\t\"ContactName\" TEXT, \n",
      "\t\"ContactTitle\" TEXT, \n",
      "\t\"Address\" TEXT, \n",
      "\t\"City\" TEXT, \n",
      "\t\"Region\" TEXT, \n",
      "\t\"PostalCode\" TEXT, \n",
      "\t\"Country\" TEXT, \n",
      "\t\"Phone\" TEXT, \n",
      "\t\"Fax\" TEXT, \n",
      "\tPRIMARY KEY (\"CustomerID\")\n",
      ")\n",
      "\n",
      "/*\n",
      "3 rows from Customers table:\n",
      "CustomerID\tCompanyName\tContactName\tContactTitle\tAddress\tCity\tRegion\tPostalCode\tCountry\tPhone\tFax\n",
      "ALFKI\tAlfreds Futterkiste\tMaria Anders\tSales Representative\tObere Str. 57\tBerlin\tWestern Europe\t12209\tGermany\t030-0074321\t030-0076545\n",
      "ANATR\tAna Trujillo Emparedados y helados\tAna Trujillo\tOwner\tAvda. de la Constitución 2222\tMéxico D.F.\tCentral America\t05021\tMexico\t(5) 555-4729\t(5) 555-3745\n",
      "ANTON\tAntonio Moreno Taquería\tAntonio Moreno\tOwner\tMataderos  2312\tMéxico D.F.\tCentral America\t05023\tMexico\t(5) 555-3932\tNone\n",
      "*/\n",
      "\n",
      "\n",
      "CREATE TABLE \"Order Details\" (\n",
      "\t\"OrderID\" INTEGER NOT NULL, \n",
      "\t\"ProductID\" INTEGER NOT NULL, \n",
      "\t\"UnitPrice\" NUMERIC DEFAULT 0 NOT NULL, \n",
      "\t\"Quantity\" INTEGER DEFAULT 1 NOT NULL, \n",
      "\t\"Discount\" REAL DEFAULT 0 NOT NULL, \n",
      "\tPRIMARY KEY (\"OrderID\", \"ProductID\"), \n",
      "\tFOREIGN KEY(\"ProductID\") REFERENCES \"Products\" (\"ProductID\"), \n",
      "\tFOREIGN KEY(\"OrderID\") REFERENCES \"Orders\" (\"OrderID\"), \n",
      "\tCHECK ([Discount]>=(0) AND [Discount]<=(1)), \n",
      "\tCHECK ([Quantity]>(0)), \n",
      "\tCHECK ([UnitPrice]>=(0))\n",
      ")\n",
      "\n",
      "/*\n",
      "3 rows from Order Details table:\n",
      "OrderID\tProductID\tUnitPrice\tQuantity\tDiscount\n",
      "10248\t11\t14.0000000000\t12\t0.0\n",
      "10248\t42\t9.8000000000\t10\t0.0\n",
      "10248\t72\t34.8000000000\t5\t0.0\n",
      "*/\n",
      "\n",
      "\n",
      "CREATE TABLE \"Orders\" (\n",
      "\t\"OrderID\" INTEGER NOT NULL, \n",
      "\t\"CustomerID\" TEXT, \n",
      "\t\"EmployeeID\" INTEGER, \n",
      "\t\"OrderDate\" DATETIME, \n",
      "\t\"RequiredDate\" DATETIME, \n",
      "\t\"ShippedDate\" DATETIME, \n",
      "\t\"ShipVia\" INTEGER, \n",
      "\t\"Freight\" NUMERIC DEFAULT 0, \n",
      "\t\"ShipName\" TEXT, \n",
      "\t\"ShipAddress\" TEXT, \n",
      "\t\"ShipCity\" TEXT, \n",
      "\t\"ShipRegion\" TEXT, \n",
      "\t\"ShipPostalCode\" TEXT, \n",
      "\t\"ShipCountry\" TEXT, \n",
      "\tPRIMARY KEY (\"OrderID\"), \n",
      "\tFOREIGN KEY(\"ShipVia\") REFERENCES \"Shippers\" (\"ShipperID\"), \n",
      "\tFOREIGN KEY(\"CustomerID\") REFERENCES \"Customers\" (\"CustomerID\"), \n",
      "\tFOREIGN KEY(\"EmployeeID\") REFERENCES \"Employees\" (\"EmployeeID\")\n",
      ")\n",
      "\n",
      "/*\n",
      "3 rows from Orders table:\n",
      "OrderID\tCustomerID\tEmployeeID\tOrderDate\tRequiredDate\tShippedDate\tShipVia\tFreight\tShipName\tShipAddress\tShipCity\tShipRegion\tShipPostalCode\tShipCountry\n",
      "10248\tVINET\t5\t2016-07-04 00:00:00\t2016-08-01 00:00:00\t2016-07-16 00:00:00\t3\t16.7500000000\tVins et alcools Chevalier\t59 rue de l-Abbaye\tReims\tWestern Europe\t51100\tFrance\n",
      "10249\tTOMSP\t6\t2016-07-05 00:00:00\t2016-08-16 00:00:00\t2016-07-10 00:00:00\t1\t22.2500000000\tToms Spezialitäten\tLuisenstr. 48\tMünster\tWestern Europe\t44087\tGermany\n",
      "10250\tHANAR\t4\t2016-07-08 00:00:00\t2016-08-05 00:00:00\t2016-07-12 00:00:00\t2\t25.0000000000\tHanari Carnes\tRua do Paço, 67\tRio de Janeiro\tSouth America\t05454-876\tBrazil\n",
      "*/\n",
      "\n",
      "\n",
      "CREATE TABLE \"Products\" (\n",
      "\t\"ProductID\" INTEGER NOT NULL, \n",
      "\t\"ProductName\" TEXT NOT NULL, \n",
      "\t\"SupplierID\" INTEGER, \n",
      "\t\"CategoryID\" INTEGER, \n",
      "\t\"QuantityPerUnit\" TEXT, \n",
      "\t\"UnitPrice\" NUMERIC DEFAULT 0, \n",
      "\t\"UnitsInStock\" INTEGER DEFAULT 0, \n",
      "\t\"UnitsOnOrder\" INTEGER DEFAULT 0, \n",
      "\t\"ReorderLevel\" INTEGER DEFAULT 0, \n",
      "\t\"Discontinued\" TEXT DEFAULT '0' NOT NULL, \n",
      "\tPRIMARY KEY (\"ProductID\"), \n",
      "\tFOREIGN KEY(\"SupplierID\") REFERENCES \"Suppliers\" (\"SupplierID\"), \n",
      "\tFOREIGN KEY(\"CategoryID\") REFERENCES \"Categories\" (\"CategoryID\"), \n",
      "\tCHECK ([UnitPrice]>=(0)), \n",
      "\tCHECK ([ReorderLevel]>=(0)), \n",
      "\tCHECK ([UnitsInStock]>=(0)), \n",
      "\tCHECK ([UnitsOnOrder]>=(0))\n",
      ")\n",
      "\n",
      "/*\n",
      "3 rows from Products table:\n",
      "ProductID\tProductName\tSupplierID\tCategoryID\tQuantityPerUnit\tUnitPrice\tUnitsInStock\tUnitsOnOrder\tReorderLevel\tDiscontinued\n",
      "1\tChai\t1\t1\t10 boxes x 20 bags\t18.0000000000\t39\t0\t10\t0\n",
      "2\tChang\t1\t1\t24 - 12 oz bottles\t19.0000000000\t17\t40\t25\t0\n",
      "3\tAniseed Syrup\t1\t2\t12 - 550 ml bottles\t10.0000000000\t13\t70\t25\t0\n",
      "*/\n",
      "==================================\u001b[1m Ai Message \u001b[0m==================================\n",
      "Tool Calls:\n",
      "  sql_db_query (call_kJ8rB6p8vP7DiAdasTPgwyfS)\n",
      " Call ID: call_kJ8rB6p8vP7DiAdasTPgwyfS\n",
      "  Args:\n",
      "    query: SELECT DISTINCT c.CustomerID, c.CompanyName FROM Customers c JOIN Orders o ON c.CustomerID = o.CustomerID JOIN Order Details od ON o.OrderID = od.OrderID JOIN Products p ON od.ProductID = p.ProductID JOIN Categories cat ON p.CategoryID = cat.CategoryID WHERE cat.CategoryName = 'Seafood'\n",
      "=================================\u001b[1m Tool Message \u001b[0m=================================\n",
      "Name: sql_db_query\n",
      "\n",
      "Error: (sqlite3.OperationalError) near \"Order\": syntax error\n",
      "[SQL: SELECT DISTINCT c.CustomerID, c.CompanyName FROM Customers c JOIN Orders o ON c.CustomerID = o.CustomerID JOIN Order Details od ON o.OrderID = od.OrderID JOIN Products p ON od.ProductID = p.ProductID JOIN Categories cat ON p.CategoryID = cat.CategoryID WHERE cat.CategoryName = 'Seafood']\n",
      "(Background on this error at: https://sqlalche.me/e/20/e3q8)\n",
      "==================================\u001b[1m Ai Message \u001b[0m==================================\n",
      "Tool Calls:\n",
      "  sql_db_query_checker (call_TjY30EkUYsN8HwLwDbWOZWa8)\n",
      " Call ID: call_TjY30EkUYsN8HwLwDbWOZWa8\n",
      "  Args:\n",
      "    query: SELECT DISTINCT c.CustomerID, c.CompanyName FROM Customers c JOIN Orders o ON c.CustomerID = o.CustomerID JOIN 'Order Details' od ON o.OrderID = od.OrderID JOIN Products p ON od.ProductID = p.ProductID JOIN Categories cat ON p.CategoryID = cat.CategoryID WHERE cat.CategoryName = 'Seafood'\n",
      "=================================\u001b[1m Tool Message \u001b[0m=================================\n",
      "Name: sql_db_query_checker\n",
      "\n",
      "SELECT DISTINCT c.CustomerID, c.CompanyName \n",
      "FROM Customers c \n",
      "JOIN Orders o ON c.CustomerID = o.CustomerID \n",
      "JOIN 'Order Details' od ON o.OrderID = od.OrderID \n",
      "JOIN Products p ON od.ProductID = p.ProductID \n",
      "JOIN Categories cat ON p.CategoryID = cat.CategoryID \n",
      "WHERE cat.CategoryName = 'Seafood';\n",
      "==================================\u001b[1m Ai Message \u001b[0m==================================\n",
      "Tool Calls:\n",
      "  sql_db_query (call_PjNBUPqr3eBW8ZSD1HyPfvo6)\n",
      " Call ID: call_PjNBUPqr3eBW8ZSD1HyPfvo6\n",
      "  Args:\n",
      "    query: SELECT DISTINCT c.CustomerID, c.CompanyName FROM Customers c JOIN Orders o ON c.CustomerID = o.CustomerID JOIN 'Order Details' od ON o.OrderID = od.OrderID JOIN Products p ON od.ProductID = p.ProductID JOIN Categories cat ON p.CategoryID = cat.CategoryID WHERE cat.CategoryName = 'Seafood'\n",
      "=================================\u001b[1m Tool Message \u001b[0m=================================\n",
      "Name: sql_db_query\n",
      "\n",
      "[('HANAR', 'Hanari Carnes'), ('RICSU', 'Richter Supermarkt'), ('CENTC', 'Centro comercial Moctezuma'), ('OTTIK', 'Ottilies Käseladen'), ('ERNSH', 'Ernst Handel'), ('FOLKO', 'Folk och fä HB'), ('FRANK', 'Frankenversand'), ('WARTH', 'Wartian Herkku'), ('QUICK', 'QUICK-Stop'), ('TORTU', 'Tortuga Restaurante'), ('BERGS', 'Berglunds snabbköp'), ('ROMEY', 'Romero y tomillo'), ('RICAR', 'Ricardo Adocicados'), ('QUEDE', 'Que Delícia'), ('HUNGO', 'Hungry Owl All-Night Grocers'), ('WANDK', 'Die Wandernde Kuh'), ('GODOS', 'Godos Cocina Típica'), ('OLDWO', 'Old World Delicatessen'), ('RATTC', 'Rattlesnake Canyon Grocery'), ('ISLAT', 'Island Trading'), ('SAVEA', 'Save-a-lot Markets'), ('KOENE', 'Königlich Essen'), ('SPLIR', 'Split Rail Beer & Ale'), ('MEREP', 'Mère Paillarde'), ('BONAP', \"Bon app'\"), ('FAMIA', 'Familia Arquibaldo'), ('LILAS', 'LILA-Supermercado'), ('LAMAI', \"La maison d'Asie\"), ('WOLZA', 'Wolski  Zajazd'), ('AROUT', 'Around the Horn'), ('SEVES', 'Seven Seas Imports'), ('BOTTM', 'Bottom-Dollar Markets'), ('DRACD', 'Drachenblut Delikatessen'), ('HUNGC', 'Hungry Coyote Import Store'), ('HILAA', 'HILARION-Abastos'), ('QUEEN', 'Queen Cozinha'), ('FOLIG', 'Folies gourmandes'), ('SIMOB', 'Simons bistro'), ('WELLI', 'Wellington Importadora'), ('REGGC', 'Reggiani Caseifici'), ('BLONP', 'Blondesddsl père et fils'), ('RANCH', 'Rancho grande'), ('VICTE', 'Victuailles en stock'), ('CONSH', 'Consolidated Holdings'), ('VAFFE', 'Vaffeljernet'), ('COMMI', 'Comércio Mineiro'), ('PERIC', 'Pericles Comidas clásicas'), ('LAZYK', 'Lazy K Kountry Store'), ('BSBEV', \"B's Beverages\"), ('LAUGB', 'Laughing Bacchus Wine Cellars'), ('CHOPS', 'Chop-suey Chinese'), ('CACTU', 'Cactus Comidas para llevar'), ('LEHMS', 'Lehmanns Marktstand'), ('EASTC', 'Eastern Connection'), ('ANTON', 'Antonio Moreno Taquería'), ('TOMSP', 'Toms Spezialitäten'), ('GALED', 'Galería del gastrónomo'), ('TRAIH', \"Trail's Head Gourmet Provisioners\"), ('DUMON', 'Du monde entier'), ('LINOD', 'LINO-Delicateses'), ('SANTG', 'Santé Gourmet'), ('ALFKI', 'Alfreds Futterkiste'), ('GOURL', 'Gourmet Lanchonetes'), ('FURIB', 'Furia Bacalhau e Frutos do Mar'), ('WHITC', 'White Clover Markets'), ('THEBI', 'The Big Cheese'), ('LETSS', \"Let's Stop N Shop\"), ('VINET', 'Vins et alcools Chevalier'), ('PICCO', 'Piccolo und mehr'), ('FRANS', 'Franchi S.p.A.'), ('MAGAA', 'Magazzini Alimentari Riuniti'), ('THECR', 'The Cracker Box'), ('GROSR', 'GROSELLA-Restaurante'), ('TRADH', 'Tradição Hipermercados'), ('SUPRD', 'Suprêmes délices'), ('BLAUS', 'Blauer See Delikatessen'), ('WILMK', 'Wilman Kala'), ('MAISD', 'Maison Dewey'), ('OCEAN', 'Océano Atlántico Ltda.'), ('ANATR', 'Ana Trujillo Emparedados y helados'), ('GREAL', 'Great Lakes Food Market'), ('MORGK', 'Morgenstern Gesundkost'), ('SPECD', 'Spécialités du monde'), ('LACOR', \"La corne d'abondance\"), ('LONEP', 'Lonesome Pine Restaurant'), ('PARIS', 'Paris spécialités'), ('PRINI', 'Princesa Isabel Vinhos'), ('BOLID', 'Bólido Comidas preparadas'), ('FRANR', 'France restauration'), ('FISSA', 'FISSA Fabrica Inter. Salchichas S.A.'), ('NORTS', 'North/South'), ('Val2 ', 'IT'), ('VALON', 'IT')]\n",
      "==================================\u001b[1m Ai Message \u001b[0m==================================\n",
      "\n",
      "The customers who ordered products from the 'Seafood' category are:\n",
      "1. Hanari Carnes\n",
      "2. Richter Supermarkt\n",
      "3. Centro comercial Moctezuma\n",
      "4. Ottilies Käseladen\n",
      "5. Ernst Handel\n",
      "\n",
      "and many more.\n"
     ]
    }
   ],
   "source": [
    "question = \"Which customers ordered products from the 'Seafood' category?\"\n",
    "query = {\"messages\": [HumanMessage(question)]}\n",
    "\n",
    "# for step in agent_executor.stream(query, stream_mode=\"updates\"):\n",
    "#     print(step)\n",
    "\n",
    "# for step in agent_executor.stream(query, stream_mode=\"updates\"):\n",
    "#     if \"agent\" in step:\n",
    "#         if \"messages\" in step[\"agent\"]:\n",
    "#             for message in step[\"agent\"][\"messages\"]:\n",
    "#                 if hasattr(message, \"content\") and message.content:\n",
    "#                     print(f\"Agent: {message.content}\")\n",
    "#                 elif hasattr(message, \"tool_calls\") and message.tool_calls:\n",
    "#                     print(\"Agent is calling tools:\")\n",
    "#                     for tool_call in message.tool_calls:\n",
    "#                         print(f\"  Tool Name: {tool_call['name']}\")\n",
    "#                         print(f\"  Tool Arguments: {tool_call['args']}\")\n",
    "#     elif \"tools\" in step:\n",
    "#         if \"messages\" in step[\"tools\"]:\n",
    "#             for message in step[\"tools\"][\"messages\"]:\n",
    "#                 if hasattr(message, \"content\"):\n",
    "#                     print(f\"Tool Result ({message.name}): {message.content}\")\n",
    "\n",
    "\n",
    "for step in agent_executor.stream(query, stream_mode=\"updates\"):\n",
    "    if \"agent\" in step and \"messages\" in step[\"agent\"]:\n",
    "        for message in step[\"agent\"][\"messages\"]:\n",
    "            # Call pretty_print on the AgentMessage object\n",
    "            message.pretty_print()  \n",
    "    elif \"tools\" in step and \"messages\" in step[\"tools\"]:\n",
    "        for message in step[\"tools\"][\"messages\"]:\n",
    "            # Call pretty_print on the ToolMessage object\n",
    "            message.pretty_print()  "
   ]
  }
 ],
 "metadata": {
  "kernelspec": {
   "display_name": "Python 3",
   "language": "python",
   "name": "python3"
  },
  "language_info": {
   "codemirror_mode": {
    "name": "ipython",
    "version": 3
   },
   "file_extension": ".py",
   "mimetype": "text/x-python",
   "name": "python",
   "nbconvert_exporter": "python",
   "pygments_lexer": "ipython3",
   "version": "3.12.0"
  }
 },
 "nbformat": 4,
 "nbformat_minor": 5
}
