{
 "cells": [
  {
   "cell_type": "markdown",
   "id": "1762f650",
   "metadata": {},
   "source": [
    "## Introduction to LangGraph"
   ]
  },
  {
   "cell_type": "markdown",
   "id": "28d0f0d6",
   "metadata": {},
   "source": [
    "### Basic OOP Concepts"
   ]
  },
  {
   "cell_type": "markdown",
   "id": "310a75fe",
   "metadata": {},
   "source": [
    "#### Classes"
   ]
  },
  {
   "cell_type": "markdown",
   "id": "165224d4",
   "metadata": {},
   "source": [
    "Imagine you want to create multiple similar things, like different types of cars. A class is like a blueprint or a template for creating these cars. It defines the common characteristics (like color, model, number of wheels) and behaviors (like starting, accelerating, braking) that all cars of that type will have."
   ]
  },
  {
   "cell_type": "code",
   "execution_count": 1,
   "id": "ae2f295e",
   "metadata": {},
   "outputs": [],
   "source": [
    "class Car:\n",
    "    # Attributes\n",
    "    def __init__(self, color, model):\n",
    "        self.color = color\n",
    "        self.model = model\n",
    "\n",
    "    # Methods\n",
    "    def start(self):\n",
    "        print(f\"The {self.color} {self.model} is starting.\")\n",
    "\n",
    "    def accelerate(self):\n",
    "        print(f\"The {self.color} {self.model} is accelerating.\")"
   ]
  },
  {
   "cell_type": "markdown",
   "id": "5b687a31",
   "metadata": {},
   "source": [
    "Here, Car is the class name. The __ init __ method is a special method called the constructor. It's automatically called when you create a new car object and is used to initialize the object's attributes (color and model in this case). start and accelerate are methods, which are functions associated with the Car class."
   ]
  },
  {
   "cell_type": "markdown",
   "id": "4501d1e1",
   "metadata": {},
   "source": [
    "#### Objects"
   ]
  },
  {
   "cell_type": "markdown",
   "id": "8f9cd6c7",
   "metadata": {},
   "source": [
    "An object is a specific instance of a class. Using our car analogy, a red Toyota Camry is an object of the Car class. You create objects from a class, just like you build cars from a blueprint."
   ]
  },
  {
   "cell_type": "code",
   "execution_count": 2,
   "id": "01af269e",
   "metadata": {},
   "outputs": [],
   "source": [
    "my_car = Car(\"red\", \"Camry\")\n",
    "another_car = Car(\"blue\", \"Mustang\")"
   ]
  },
  {
   "cell_type": "markdown",
   "id": "a3ed1cff",
   "metadata": {},
   "source": [
    "Now, my_car and another_car are individual Car objects, each with its own specific color and model."
   ]
  },
  {
   "cell_type": "markdown",
   "id": "5a593be9",
   "metadata": {},
   "source": [
    "#### Methods"
   ]
  },
  {
   "cell_type": "markdown",
   "id": "e6b1ce81",
   "metadata": {},
   "source": [
    "Methods are functions that are defined within a class and operate on the objects of that class. They define the behaviors of the objects.\n",
    "\n",
    "We saw start and accelerate in our Car class. You call a method on an object using dot notation:"
   ]
  },
  {
   "cell_type": "code",
   "execution_count": 3,
   "id": "f090946a",
   "metadata": {},
   "outputs": [
    {
     "name": "stdout",
     "output_type": "stream",
     "text": [
      "The red Camry is starting.\n"
     ]
    }
   ],
   "source": [
    "my_car.start()"
   ]
  },
  {
   "cell_type": "code",
   "execution_count": 4,
   "id": "a7f64202",
   "metadata": {},
   "outputs": [
    {
     "name": "stdout",
     "output_type": "stream",
     "text": [
      "The blue Mustang is accelerating.\n"
     ]
    }
   ],
   "source": [
    "another_car.accelerate() "
   ]
  },
  {
   "cell_type": "markdown",
   "id": "fa837fa8",
   "metadata": {},
   "source": [
    "When you call a method on an object, the object itself is automatically passed as the first argument (conventionally named self within the method definition), allowing the method to access and modify the object's attributes."
   ]
  },
  {
   "cell_type": "markdown",
   "id": "2b90ad3f",
   "metadata": {},
   "source": [
    "#### Inheritance"
   ]
  },
  {
   "cell_type": "markdown",
   "id": "112b78f7",
   "metadata": {},
   "source": [
    "Inheritance is a powerful concept that allows you to create new classes based on existing ones. The new class (called the subclass or derived class) inherits the attributes and methods of the parent class (or base class). This promotes code reusability and helps create a hierarchy of related classes.\n",
    "\n",
    "Let's say we want to create a SportsCar class that has all the properties of a regular Car but also has a turbo attribute and a boost method:"
   ]
  },
  {
   "cell_type": "code",
   "execution_count": 5,
   "id": "f57e2fa4",
   "metadata": {},
   "outputs": [],
   "source": [
    "class SportsCar(Car):  # SportsCar inherits from Car\n",
    "    def __init__(self, color, model, turbo):\n",
    "        super().__init__(color, model)  # Call the parent class's constructor\n",
    "        self.turbo = turbo\n",
    "\n",
    "    def boost(self):\n",
    "        if self.turbo:\n",
    "            print(\"Initiating turbo boost!\")\n",
    "        else:\n",
    "            print(\"No turbo available.\")"
   ]
  },
  {
   "cell_type": "markdown",
   "id": "a8dd76c1",
   "metadata": {},
   "source": [
    "Here, SportsCar inherits from Car. The super().__init__(color, model) line calls the constructor of the Car class to initialize the color and model attributes. The SportsCar class then adds its own specific attribute (turbo) and method (boost).\n",
    "\n",
    "Now you can create SportsCar objects that have all the characteristics of a Car plus the added features:"
   ]
  },
  {
   "cell_type": "code",
   "execution_count": 6,
   "id": "bedc9d86",
   "metadata": {},
   "outputs": [],
   "source": [
    "my_sports_car = SportsCar(\"yellow\", \"Supra\", True)"
   ]
  },
  {
   "cell_type": "code",
   "execution_count": 7,
   "id": "30ce8306",
   "metadata": {},
   "outputs": [
    {
     "name": "stdout",
     "output_type": "stream",
     "text": [
      "The yellow Supra is starting.\n"
     ]
    }
   ],
   "source": [
    "my_sports_car.start()   # Inherited from Car\n"
   ]
  },
  {
   "cell_type": "code",
   "execution_count": 8,
   "id": "a16b4819",
   "metadata": {},
   "outputs": [
    {
     "name": "stdout",
     "output_type": "stream",
     "text": [
      "Initiating turbo boost!\n"
     ]
    }
   ],
   "source": [
    "my_sports_car.boost()   # Specific to SportsCar"
   ]
  },
  {
   "cell_type": "markdown",
   "id": "3c27be30",
   "metadata": {},
   "source": [
    "In a nutshell:\n",
    "\n",
    "- Class: A blueprint for creating objects.\n",
    "- Object: A specific instance of a class.\n",
    "- Method: A function associated with an object that defines its behavior.\n",
    "- Inheritance: A mechanism for creating new classes based on existing ones, inheriting their attributes and methods."
   ]
  },
  {
   "cell_type": "markdown",
   "id": "45a90127",
   "metadata": {},
   "source": [
    "### Pydantic - For Data Validation"
   ]
  },
  {
   "cell_type": "markdown",
   "id": "f8a51f29",
   "metadata": {},
   "source": [
    "Imagine you're building a web application that takes user information like name, email, and age. You need to make sure that the \"age\" field actually contains a number, the \"email\" looks like a valid email address, and the \"name\" isn't empty. This process of checking if data meets certain criteria is called data validation.\n",
    "\n",
    "Pydantic is a powerful Python library that simplifies data validation by allowing you to define data structures as Python classes with type hints. Pydantic then automatically validates the data against these type hints at runtime and provides helpful error messages if the data doesn't conform."
   ]
  },
  {
   "cell_type": "markdown",
   "id": "40bc962a",
   "metadata": {},
   "source": [
    "#### Models"
   ]
  },
  {
   "cell_type": "markdown",
   "id": "39c0ea73",
   "metadata": {},
   "source": [
    "At the heart of Pydantic are models. A Pydantic model is a Python class that inherits from `pydantic.BaseModel`. You define the expected structure and data types of your data by adding type-hinted attributes to this class."
   ]
  },
  {
   "cell_type": "code",
   "execution_count": 9,
   "id": "ea3cfbca",
   "metadata": {},
   "outputs": [],
   "source": [
    "from pydantic import BaseModel\n",
    "\n",
    "class User(BaseModel):\n",
    "    name: str\n",
    "    email: str\n",
    "    age: int\n",
    "    is_active: bool = False  # Default value"
   ]
  },
  {
   "cell_type": "markdown",
   "id": "71189cdc",
   "metadata": {},
   "source": [
    "In this example, the User model expects data with a name (string), an email (string), an age (integer), and an optional is_active (boolean, defaulting to False)."
   ]
  },
  {
   "cell_type": "markdown",
   "id": "9fef913a",
   "metadata": {},
   "source": [
    "#### Validation"
   ]
  },
  {
   "cell_type": "markdown",
   "id": "52f0d957",
   "metadata": {},
   "source": [
    "When you create an instance of a Pydantic model with some data, Pydantic automatically validates that data against the type hints defined in the model."
   ]
  },
  {
   "cell_type": "code",
   "execution_count": 10,
   "id": "737c9d18",
   "metadata": {},
   "outputs": [
    {
     "name": "stdout",
     "output_type": "stream",
     "text": [
      "name='Alice' email='alice@example.com' age=30 is_active=False\n",
      "30\n"
     ]
    }
   ],
   "source": [
    "user_data_valid = {\"name\": \"Alice\", \"email\": \"alice@example.com\", \"age\": 30}\n",
    "user_valid = User(**user_data_valid)\n",
    "print(user_valid)\n",
    "print(user_valid.age)\n"
   ]
  },
  {
   "cell_type": "code",
   "execution_count": 11,
   "id": "a8699d14",
   "metadata": {},
   "outputs": [
    {
     "name": "stdout",
     "output_type": "stream",
     "text": [
      "1 validation error for User\n",
      "age\n",
      "  Input should be a valid integer, unable to parse string as an integer [type=int_parsing, input_value='twenty', input_type=str]\n",
      "    For further information visit https://errors.pydantic.dev/2.10/v/int_parsing\n"
     ]
    }
   ],
   "source": [
    "\n",
    "user_data_invalid = {\"name\": \"Bob\", \"email\": \"bob@\", \"age\": \"twenty\"}\n",
    "try:\n",
    "    user_invalid = User(**user_data_invalid)\n",
    "except Exception as e:\n",
    "    print(e)"
   ]
  },
  {
   "cell_type": "markdown",
   "id": "a6232c76",
   "metadata": {},
   "source": [
    "If the data is valid, Pydantic creates an instance of your model, and you can access the validated data as attributes of that object. If the data is invalid, Pydantic raises a `ValidationError` containing detailed information about the validation errors."
   ]
  },
  {
   "cell_type": "markdown",
   "id": "baeb0d9d",
   "metadata": {},
   "source": [
    "#### Type Hints"
   ]
  },
  {
   "cell_type": "markdown",
   "id": "e81a19f2",
   "metadata": {},
   "source": [
    "Pydantic heavily relies on Python's type hints. These hints not only make your code more readable but also tell Pydantic what kind of data to expect for each field. Pydantic supports a wide range of built-in types (like str, int, float, bool, list, dict) and also allows for more complex types using the typing module (like Optional, Union, List, Dict)."
   ]
  },
  {
   "cell_type": "markdown",
   "id": "38a0d1f0",
   "metadata": {},
   "source": [
    "#### Data Conversion"
   ]
  },
  {
   "cell_type": "markdown",
   "id": "0e8f94de",
   "metadata": {},
   "source": [
    "Pydantic doesn't just validate; it also tries to intelligently parse and convert the input data to the expected types. For example, if you provide \"42\" as the age, Pydantic will convert it to the integer 42 if the age field is type-hinted as int."
   ]
  },
  {
   "cell_type": "markdown",
   "id": "1c80efc8",
   "metadata": {},
   "source": [
    "#### Serialization"
   ]
  },
  {
   "cell_type": "markdown",
   "id": "f3b01a1c",
   "metadata": {},
   "source": [
    "Pydantic models can also easily be serialized back into dictionaries or JSON format, making them convenient for working with APIs and data storage."
   ]
  },
  {
   "cell_type": "code",
   "execution_count": 12,
   "id": "a2aeb515",
   "metadata": {},
   "outputs": [
    {
     "name": "stdout",
     "output_type": "stream",
     "text": [
      "{'name': 'Alice', 'email': 'alice@example.com', 'age': 30, 'is_active': False}\n"
     ]
    }
   ],
   "source": [
    "print(user_valid.model_dump())\n"
   ]
  },
  {
   "cell_type": "code",
   "execution_count": 13,
   "id": "96cdb23f",
   "metadata": {},
   "outputs": [
    {
     "name": "stdout",
     "output_type": "stream",
     "text": [
      "{\"name\":\"Alice\",\"email\":\"alice@example.com\",\"age\":30,\"is_active\":false}\n"
     ]
    }
   ],
   "source": [
    "import json\n",
    "print(user_valid.model_dump_json())"
   ]
  },
  {
   "cell_type": "markdown",
   "id": "b4d2524c",
   "metadata": {},
   "source": [
    "### LangGraph"
   ]
  },
  {
   "cell_type": "markdown",
   "id": "3fda8d9e",
   "metadata": {},
   "source": [
    "LangGraph is a low-level orchestration framework for building controllable agents. While langchain provides integrations and composable components to streamline LLM application development, the LangGraph library enables agent orchestration — offering customizable architectures, long-term memory, and human-in-the-loop to reliably handle complex tasks"
   ]
  },
  {
   "cell_type": "markdown",
   "id": "088b928d",
   "metadata": {},
   "source": [
    "#### LangChain versus LangGraph\n"
   ]
  },
  {
   "cell_type": "markdown",
   "id": "06d3c14a",
   "metadata": {},
   "source": [
    "LangChain is a broad and versatile framework focused on creating multi-step language processing workflows. LangChain's core concept for complex workflows, including agents, often revolves around linear chains or more intricate, but still somewhat predefined, sequences of steps. While it allows for tool usage and decision-making within agents, the orchestration of multiple agents or complex conditional logic can become less intuitive and harder to manage as complexity grows. LangChain's memory management within agents is often tied to the context window of the LLM or simpler memory objects. Managing state across multiple interacting agents or long, complex workflows can be challenging."
   ]
  },
  {
   "cell_type": "markdown",
   "id": "be995ab3",
   "metadata": {},
   "source": [
    "LangGraph is explicitly designed for building stateful, multi-actor applications, particularly excelling in agent orchestration. It introduces a graph-based structure to model complex workflows. LangGraph's graph structure provides a clear and explicit way to define how different agents interact and when control is passed between them. This makes it easier to reason about and manage complex multi-agent scenarios compared to LangChain's more implicit agent execution flow. LangGraph's graph edges can be conditional, enabling the creation of sophisticated workflows with branching logic. You can define different paths the workflow can take based on the output of an agent or the current state. The central state in LangGraph allows for seamless sharing and modification of information between agents. This is crucial for collaborative tasks where agents need to build upon each other's outputs and maintain a shared understanding."
   ]
  },
  {
   "cell_type": "markdown",
   "id": "37941c95",
   "metadata": {},
   "source": [
    "In summary, while LangChain is a powerful general-purpose framework for LLM applications, LangGraph is specifically engineered for the complexities of agent orchestration. Its graph-based architecture and state management capabilities provide a more robust, flexible, and controllable way to build sophisticated multi-agent systems compared to LangChain's more sequential or less state-centric approach to agents. As agent-based applications become more intricate, LangGraph offers a more suitable foundation for managing their complexity."
   ]
  },
  {
   "cell_type": "markdown",
   "id": "939bee07",
   "metadata": {},
   "source": [
    "#### LangGraph Architecture"
   ]
  },
  {
   "cell_type": "markdown",
   "id": "e2f3a4eb",
   "metadata": {},
   "source": [
    "##### StateGraph"
   ]
  },
  {
   "cell_type": "markdown",
   "id": "36f77fc2",
   "metadata": {},
   "source": [
    "The central piece of LangGraph is the `StateGraph`. It's a class that allows you to define and manage the flow of your application as a directed graph."
   ]
  },
  {
   "cell_type": "markdown",
   "id": "acae5834",
   "metadata": {},
   "source": [
    "##### Nodes"
   ]
  },
  {
   "cell_type": "markdown",
   "id": "dfc13472",
   "metadata": {},
   "source": [
    "These are the fundamental building blocks of the graph. Each node represents a distinct step in your workflow. A node can be:\n",
    "\n",
    "- An Agent: An autonomous entity that uses tools and LLMs to make decisions and take actions\n",
    "- An LLM call: Directly invoking a LLM model\n",
    "- A Tool invocation: Executing an external tool or function\n",
    "- Any Python Callable: A regular Python function that processes the state"
   ]
  },
  {
   "cell_type": "markdown",
   "id": "d11dc050",
   "metadata": {},
   "source": [
    "##### Edges"
   ]
  },
  {
   "cell_type": "markdown",
   "id": "fcd7e7f2",
   "metadata": {},
   "source": [
    "These define the transitions between nodes. They dictate how the workflow moves from one step to the next. Edges can be:\n",
    "- UnconditionaL:  A simple directed edge that always leads from one node to another.\n",
    "- Conditional:  An edge that specifies a function to evaluate the current state. Based on the output of this function, the workflow will transition to one of several possible next nodes. This enables branching logic."
   ]
  },
  {
   "cell_type": "markdown",
   "id": "0bf10972",
   "metadata": {},
   "source": [
    "##### State"
   ]
  },
  {
   "cell_type": "markdown",
   "id": "78bdc6da",
   "metadata": {},
   "source": [
    "LangGraph introduces a dedicated State object that acts as a central repository for all information shared across the nodes in the graph. You define the schema of this state using a Pydantic model. This ensures type safety and allows LangGraph to manage the data consistently. As the workflow progresses through the graph, each node can update the state based on its computations. The updated state is then passed to the next node(s) according to the defined edges. While not a core part of the immediate architecture, the state can be designed to be persistent, allowing you to resume workflows or track their history."
   ]
  },
  {
   "cell_type": "markdown",
   "id": "5cc0814a",
   "metadata": {},
   "source": [
    "##### Compilation"
   ]
  },
  {
   "cell_type": "markdown",
   "id": "b078418f",
   "metadata": {},
   "source": [
    "After defining the StateGraph with its nodes and edges, you call the compile() method to create a RunnableGraph. The RunnableGraph adheres to the LangChain Runnable interface, meaning it can be invoked with an input (which initializes the state) and will execute the graph according to its defined structure. The RunnableGraph manages the execution of the nodes in the correct order, passing the state between them based on the edges."
   ]
  },
  {
   "cell_type": "markdown",
   "id": "66ce8a88",
   "metadata": {},
   "source": [
    "#### Build a Basic Chatbot"
   ]
  },
  {
   "cell_type": "code",
   "execution_count": 26,
   "id": "712b83a8",
   "metadata": {},
   "outputs": [],
   "source": [
    "# !pip install -r requirements.txt"
   ]
  },
  {
   "cell_type": "code",
   "execution_count": 14,
   "id": "fb276923",
   "metadata": {},
   "outputs": [
    {
     "data": {
      "text/plain": [
       "True"
      ]
     },
     "execution_count": 14,
     "metadata": {},
     "output_type": "execute_result"
    }
   ],
   "source": [
    "from dotenv import load_dotenv\n",
    "import os\n",
    "\n",
    "load_dotenv()"
   ]
  },
  {
   "cell_type": "code",
   "execution_count": 15,
   "id": "a3ede0df",
   "metadata": {},
   "outputs": [],
   "source": [
    "## Langsmith Tracking\n",
    "os.environ[\"LANGSMITH_TRACING\"]=os.getenv(\"LANGSMITH_TRACING\")\n",
    "os.environ[\"LANGSMITH_ENDPOINT\"]=os.getenv(\"LANGSMITH_ENDPOINT\")\n",
    "os.environ[\"LANGSMITH_API_KEY\"]=os.getenv(\"LANGSMITH_API_KEY\")\n",
    "os.environ[\"LANGSMITH_PROJECT\"]=os.getenv(\"LANGSMITH_PROJECT\")\n",
    "\n",
    "groq_api_key = os.getenv(\"GROQ_API_KEY\")\n",
    "os.environ[\"USER_AGENT\"] = \"MyLangChainApp/1.0\""
   ]
  },
  {
   "cell_type": "code",
   "execution_count": 16,
   "id": "46bba361",
   "metadata": {},
   "outputs": [],
   "source": [
    "from langchain_groq import ChatGroq\n",
    "\n",
    "## LLM Model Setup\n",
    "llm=ChatGroq(model=\"Gemma2-9b-It\",groq_api_key=groq_api_key) "
   ]
  },
  {
   "cell_type": "code",
   "execution_count": 20,
   "id": "c0830341",
   "metadata": {},
   "outputs": [
    {
     "data": {
      "text/plain": [
       "AIMessage(content='The capital of France is **Paris**. 🗼  \\n', additional_kwargs={}, response_metadata={'token_usage': {'completion_tokens': 14, 'prompt_tokens': 16, 'total_tokens': 30, 'completion_time': 0.025454545, 'prompt_time': 0.001899456, 'queue_time': 0.015763593, 'total_time': 0.027354001}, 'model_name': 'Gemma2-9b-It', 'system_fingerprint': 'fp_10c08bf97d', 'finish_reason': 'stop', 'logprobs': None}, id='run-9fffa8a1-2f95-430b-b9ac-367dbe4015ca-0', usage_metadata={'input_tokens': 16, 'output_tokens': 14, 'total_tokens': 30})"
      ]
     },
     "execution_count": 20,
     "metadata": {},
     "output_type": "execute_result"
    }
   ],
   "source": [
    "llm.invoke(\"What is the capital of France?\")"
   ]
  },
  {
   "cell_type": "markdown",
   "id": "497f0a70",
   "metadata": {},
   "source": [
    "The below code establishes a basic LangGraph workflow for a simple chatbot. It defines a State dictionary to hold the conversation history as a list of messages, utilizing Annotated with add_messages for automatic message appending. The workflow consists of a single node, \"chatbot,\" which takes the current state, invokes an LLM with the message history to get a response, and returns the response to be added to the state. The graph is then built with the \"chatbot\" node connected from the START and leading to the END, and finally compiled into a runnable object, ready to process conversational turns."
   ]
  },
  {
   "cell_type": "code",
   "execution_count": 25,
   "id": "44b8cf17",
   "metadata": {},
   "outputs": [],
   "source": [
    "from typing import Annotated, TypedDict \n",
    "from langgraph.graph import  StateGraph, START, END\n",
    "\n",
    "from langgraph.graph.message import add_messages \n",
    "\n",
    "class State(TypedDict):\n",
    "    # {\"messages\": [\"your message\"]}\n",
    "    messages: Annotated[list, add_messages]\n",
    "\n",
    "\n",
    "def chatbot(state: State):\n",
    "    response = llm.invoke(state[\"messages\"])\n",
    "    return {\"messages\": [response]}\n",
    "\n",
    "\n",
    "graph_builder = StateGraph(State)\n",
    "graph_builder.add_node(\"chatbot\", chatbot)\n",
    "\n",
    "graph_builder.add_edge(START, \"chatbot\")\n",
    "\n",
    "graph_builder.add_edge(\"chatbot\", END)\n",
    "\n",
    "graph = graph_builder.compile()\n"
   ]
  },
  {
   "cell_type": "markdown",
   "id": "972ae3fc",
   "metadata": {},
   "source": [
    "You can visualize the graph using the get_graph method and one of the \"draw\" methods, like draw_ascii or draw_png. The draw methods each require additional dependencies."
   ]
  },
  {
   "cell_type": "code",
   "execution_count": 27,
   "id": "a8980b72",
   "metadata": {},
   "outputs": [
    {
     "data": {
      "image/png": "[encoded data removed]",
      "text/plain": [
       "<IPython.core.display.Image object>"
      ]
     },
     "metadata": {},
     "output_type": "display_data"
    }
   ],
   "source": [
    "from IPython.display import display, Image\n",
    "\n",
    "display(Image(graph.get_graph().draw_mermaid_png()))"
   ]
  },
  {
   "cell_type": "markdown",
   "id": "eec65482",
   "metadata": {},
   "source": [
    "#### Test run the chatbot"
   ]
  },
  {
   "cell_type": "markdown",
   "id": "98400b7b",
   "metadata": {},
   "source": [
    "Now let's run the chatbot! You can exit the chat loop at any time by typing \"quit\", \"exit\", or \"q\"."
   ]
  },
  {
   "cell_type": "code",
   "execution_count": 28,
   "id": "a0e4beaf",
   "metadata": {},
   "outputs": [
    {
     "name": "stdout",
     "output_type": "stream",
     "text": [
      "Assistant: LangGraph is a powerful open-source tool developed by the Hugging Face team. It's designed to help researchers and developers understand and analyze the structure of language. \n",
      "\n",
      "Here's what I know about LangGraph:\n",
      "\n",
      "**Key Features:**\n",
      "\n",
      "* **Graph Representation of Language:** LangGraph represents words and their relationships as a graph, where nodes are words and edges represent semantic connections. This allows for a visual and intuitive understanding of how words relate to each other.\n",
      "\n",
      "* **Pre-trained Embeddings:** It leverages pre-trained language embeddings (like Word2Vec, GloVe, or SentenceTransformers) to capture semantic similarities between words.\n",
      "\n",
      "* **Visualization:** LangGraph provides tools for visualizing the graph, allowing you to explore word relationships, clusters, and patterns in a visually appealing way.\n",
      "\n",
      "* **Analysis:** It offers various analysis tools to study the structure of the graph, such as calculating centrality measures, identifying communities, and exploring path lengths between words.\n",
      "\n",
      "* **Extensibility:** LangGraph is designed to be extensible, allowing users to add their own data and analysis methods.\n",
      "\n",
      "**Use Cases:**\n",
      "\n",
      "* **Semantic Analysis:** Understanding the relationships between words and concepts in a text.\n",
      "* **Word Embeddings Exploration:** Visualizing and analyzing pre-trained word embeddings.\n",
      "* **Network Analysis:** Studying the structure of language as a network.\n",
      "* **Concept Mapping:** Creating visual maps of related concepts.\n",
      "* **Educational Purposes:** Teaching about language structure and semantics.\n",
      "\n",
      "**Getting Started:**\n",
      "\n",
      "LangGraph is open-source and available on GitHub: [https://github.com/huggingface/langgraph](https://github.com/huggingface/langgraph). The documentation provides detailed instructions on installation, usage, and examples.\n",
      "\n",
      "Let me know if you have any other questions about LangGraph!\n",
      "\n",
      "Bye!\n"
     ]
    }
   ],
   "source": [
    "while True:\n",
    "    user_input = input(\"You: \")\n",
    "    if user_input in ['q', 'quit', 'exit']:\n",
    "        print(\"Bye!\")\n",
    "        break\n",
    "\n",
    "    response = graph.invoke({\"messages\": [user_input]})\n",
    "    print(\"Assistant:\", response[\"messages\"][-1].content)"
   ]
  },
  {
   "cell_type": "markdown",
   "id": "be80dfb0",
   "metadata": {},
   "source": [
    "Congratulations! You've built your first chatbot using LangGraph. This bot can engage in basic conversation by taking user input and generating responses using an LLM. You can inspect a LangSmith Trace for the call above at the provided link.\n",
    "However, you may have noticed that the bot's knowledge is limited to what's in its training data. In the next blog, we'll add a web search tool to expand the bot's knowledge and make it more capable."
   ]
  },
  {
   "cell_type": "markdown",
   "id": "822ebbf2",
   "metadata": {},
   "source": []
  }
 ],
 "metadata": {
  "kernelspec": {
   "display_name": "Python 3",
   "language": "python",
   "name": "python3"
  },
  "language_info": {
   "codemirror_mode": {
    "name": "ipython",
    "version": 3
   },
   "file_extension": ".py",
   "mimetype": "text/x-python",
   "name": "python",
   "nbconvert_exporter": "python",
   "pygments_lexer": "ipython3",
   "version": "3.12.0"
  }
 },
 "nbformat": 4,
 "nbformat_minor": 5
}
